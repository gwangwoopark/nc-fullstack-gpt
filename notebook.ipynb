{
 "cells": [
  {
   "cell_type": "markdown",
   "id": "c23ad07f",
   "metadata": {},
   "source": [
    "python -m venv ./.venv\n",
    "source ./.venv/bin/activate\n",
    "pip install -r requirements.txt"
   ]
  },
  {
   "cell_type": "code",
   "execution_count": 5,
   "id": "76c4b178",
   "metadata": {},
   "outputs": [
    {
     "name": "stdout",
     "output_type": "stream",
     "text": [
      "Great choice! Indian cuisine is known for its bold flavors and aromatic spices. Let's start with a classic and popular dish - Chicken Tikka Masala. Here's a simple recipe for you to try at home:\n",
      "\n",
      "Ingredients:\n",
      "- 1 lb boneless, skinless chicken breasts, cut into bite-sized pieces\n",
      "- 1 cup plain yogurt\n",
      "- 2 tablespoons lemon juice\n",
      "- 2 teaspoons ground cumin\n",
      "- 2 teaspoons paprika\n",
      "- 1 teaspoon ground turmeric\n",
      "- 1 teaspoon garam masala\n",
      "- 1 teaspoon ground coriander\n",
      "- 1 teaspoon chili powder (adjust to taste)\n",
      "- 2 tablespoons vegetable oil\n",
      "- 1 onion, finely chopped\n",
      "- 3 cloves garlic, minced\n",
      "- 1-inch piece of ginger, grated\n",
      "- 1 can (14 oz) crushed tomatoes\n",
      "- 1 cup heavy cream\n",
      "- Salt and pepper to taste\n",
      "- Fresh cilantro, chopped (for garnish)\n",
      "\n",
      "Instructions:\n",
      "1. In a bowl, mix together the yogurt, lemon juice, cumin, paprika, turmeric, garam masala, coriander, and chili powder. Add the chicken pieces and coat them well with the marinade. Cover and refrigerate for at least 1 hour, or overnight for best results.\n",
      "\n",
      "2. Preheat the oven to 400°F (200°C). Thread the marinated chicken pieces onto skewers and place them on a baking sheet. Bake for 20-25 minutes or until the chicken is cooked through.\n",
      "\n",
      "3. In a large skillet, heat the vegetable oil over medium heat. Add the chopped onion and cook until softened, about 5 minutes. Add the garlic and ginger, and cook for another minute until fragrant.\n",
      "\n",
      "4. Stir in the crushed tomatoes and simmer for 10 minutes. Add the heavy cream and season with salt and pepper to taste.\n",
      "\n",
      "5. Add the cooked chicken tikka pieces to the sauce and simmer for an additional 5-10 minutes to allow the flavors to meld together.\n",
      "\n",
      "6. Serve the Chicken Tikka Masala over steamed rice or with naan bread. Garnish with fresh cilantro before serving.\n",
      "\n",
      "Enjoy your homemade Chicken Tikka Masala! Feel free to adjust the spice levels to suit your taste preferences.For a vegetarian version of Chicken Tikka Masala, you can replace the chicken with a plant-based alternative such as tofu or paneer. Here's how you can prepare these alternatives:\n",
      "\n",
      "1. **Tofu**: \n",
      "   - Use extra-firm tofu and press it to remove excess water. Cut the tofu into bite-sized cubes.\n",
      "   - Instead of marinating the tofu in yogurt, you can use a mixture of plant-based yogurt (like coconut or soy yogurt), lemon juice, and the same spices mentioned in the recipe.\n",
      "   - Bake the marinated tofu in the oven at 400°F (200°C) for about 25-30 minutes or until it's slightly crispy.\n",
      "\n",
      "2. **Paneer**:\n",
      "   - Paneer is a type of Indian cheese that holds its shape well when cooked. You can find it in Indian grocery stores or make it at home by curdling hot milk with lemon juice or vinegar.\n",
      "   - Cut the paneer into cubes and lightly pan-fry or bake them before adding to the sauce. This helps the paneer hold its shape and not crumble in the curry.\n",
      "\n",
      "Follow the rest of the recipe as it is, replacing the chicken with your chosen alternative. The tofu or paneer will absorb the flavors of the spices and sauce, giving you a delicious vegetarian version of Chicken Tikka Masala. Enjoy your meal!"
     ]
    },
    {
     "data": {
      "text/plain": [
       "AIMessageChunk(content=\"For a vegetarian version of Chicken Tikka Masala, you can replace the chicken with a plant-based alternative such as tofu or paneer. Here's how you can prepare these alternatives:\\n\\n1. **Tofu**: \\n   - Use extra-firm tofu and press it to remove excess water. Cut the tofu into bite-sized cubes.\\n   - Instead of marinating the tofu in yogurt, you can use a mixture of plant-based yogurt (like coconut or soy yogurt), lemon juice, and the same spices mentioned in the recipe.\\n   - Bake the marinated tofu in the oven at 400°F (200°C) for about 25-30 minutes or until it's slightly crispy.\\n\\n2. **Paneer**:\\n   - Paneer is a type of Indian cheese that holds its shape well when cooked. You can find it in Indian grocery stores or make it at home by curdling hot milk with lemon juice or vinegar.\\n   - Cut the paneer into cubes and lightly pan-fry or bake them before adding to the sauce. This helps the paneer hold its shape and not crumble in the curry.\\n\\nFollow the rest of the recipe as it is, replacing the chicken with your chosen alternative. The tofu or paneer will absorb the flavors of the spices and sauce, giving you a delicious vegetarian version of Chicken Tikka Masala. Enjoy your meal!\")"
      ]
     },
     "execution_count": 5,
     "metadata": {},
     "output_type": "execute_result"
    }
   ],
   "source": [
    "\n",
    "from langchain.chat_models import ChatOpenAI\n",
    "from langchain.prompts import ChatPromptTemplate\n",
    "from langchain.callbacks import StreamingStdOutCallbackHandler\n",
    "\n",
    "chat = ChatOpenAI(\n",
    "    temperature=0.1,\n",
    "    streaming=True,\n",
    "    callbacks=[\n",
    "        StreamingStdOutCallbackHandler(),\n",
    "    ],\n",
    ")\n",
    "\n",
    "##\n",
    "\n",
    "chef_prompt = ChatPromptTemplate.from_messages(\n",
    "    [\n",
    "        (\n",
    "            \"system\",\n",
    "            \"You are a world-class international chef. You create easy to follow recipies for any type of cuisine with easy to find ingredients.\",\n",
    "        ),\n",
    "        (\"human\", \"I want to cook {cuisine} food.\"),\n",
    "    ]\n",
    ")\n",
    "\n",
    "chef_chain = chef_prompt | chat\n",
    "\n",
    "##\n",
    "\n",
    "veg_chef_prompt = ChatPromptTemplate.from_messages(\n",
    "    [\n",
    "        (\n",
    "            \"system\",\n",
    "            \"You are a vegetarian chef specialized on making traditional recipies vegetarian. You find alternative ingredients and explain their preparation. You don't radically modify the recipe. If there is no alternative for a food just say you don't know how to replace it.\",\n",
    "        ),\n",
    "        (\"human\", \"{recipe}\"),\n",
    "    ]\n",
    ")\n",
    "\n",
    "veg_chain = veg_chef_prompt | chat\n",
    "\n",
    "##\n",
    "\n",
    "final_chain = {\"recipe\": chef_chain} | veg_chain\n",
    "\n",
    "final_chain.invoke({\"cuisine\": \"indian\"})"
   ]
  },
  {
   "cell_type": "code",
   "execution_count": 7,
   "id": "870d5610",
   "metadata": {},
   "outputs": [
    {
     "name": "stdout",
     "output_type": "stream",
     "text": [
      "Event-driven, fast,\n",
      "JavaScript on server side,\n",
      "Node.js takes flight.이 해석은 5-7-5 소리 구조를 따르는 전형적인 하이쿠입니다. 이 하이쿠는 기술적인 주제를 다루고 있습니다. \"이벤트 주도, 빠른,\" \"서버 측 자바스크립트,\" \"Node.js가 비행을 합니다\"라는 구절은 기술적인 용어를 사용하여 Node.js의 특징을 강조하고 있습니다. Node.js는 자바스크립트 런타임 환경으로, 이벤트 기반, 비동기식, 빠른 속도로 서버 측 애플리케이션을 개발할 수 있게 해줍니다. 이 하이쿠는 기술적인 혁신과 속도, 경량화에 대한 찬사를 담고 있습니다."
     ]
    },
    {
     "data": {
      "text/plain": [
       "AIMessageChunk(content='이 해석은 5-7-5 소리 구조를 따르는 전형적인 하이쿠입니다. 이 하이쿠는 기술적인 주제를 다루고 있습니다. \"이벤트 주도, 빠른,\" \"서버 측 자바스크립트,\" \"Node.js가 비행을 합니다\"라는 구절은 기술적인 용어를 사용하여 Node.js의 특징을 강조하고 있습니다. Node.js는 자바스크립트 런타임 환경으로, 이벤트 기반, 비동기식, 빠른 속도로 서버 측 애플리케이션을 개발할 수 있게 해줍니다. 이 하이쿠는 기술적인 혁신과 속도, 경량화에 대한 찬사를 담고 있습니다.')"
      ]
     },
     "execution_count": 7,
     "metadata": {},
     "output_type": "execute_result"
    }
   ],
   "source": [
    "from langchain.chat_models import ChatOpenAI\n",
    "from langchain.prompts import ChatPromptTemplate\n",
    "from langchain.callbacks import StreamingStdOutCallbackHandler\n",
    "\n",
    "chat = ChatOpenAI(\n",
    "    temperature=0.1,\n",
    "    streaming=True,\n",
    "    callbacks=[StreamingStdOutCallbackHandler()]\n",
    ")\n",
    "\n",
    "writing_prompt = ChatPromptTemplate.from_messages([\n",
    "    (\"system\", \"You are specialized in writing haikus about programming languages. Always generate responses in the form of a haiku (5-7-5 syllable structure) and ensure each haiku centers around themes of programming, coding languages, or software development. Be concise, creative, and poetic.\"),\n",
    "    (\"human\", \"{language}\"),\n",
    "])\n",
    "\n",
    "writing_chain = writing_prompt | chat \n",
    "\n",
    "reading_prompt = ChatPromptTemplate.from_messages([\n",
    "    (\"system\", \"You are specialized in explaining haikus. When given a haiku, analyze its structure (syllable pattern, imagery, seasonal or thematic elements) and explain its meaning in a clear, thoughtful way in Korean. Focus on uncovering the poetic devices, cultural context, and emotional nuance. Be concise, insightful, and accessible to readers.\"),\n",
    "    (\"human\", \"{haiku}\"),\n",
    "])\n",
    "\n",
    "reading_chain = reading_prompt | chat\n",
    "\n",
    "final_chain = {\"haiku\": writing_chain} | reading_chain\n",
    "\n",
    "final_chain.invoke({\"language\": \"nodejs\"})"
   ]
  },
  {
   "cell_type": "code",
   "execution_count": null,
   "id": "2acf8ae6",
   "metadata": {},
   "outputs": [],
   "source": []
  }
 ],
 "metadata": {
  "kernelspec": {
   "display_name": ".venv",
   "language": "python",
   "name": "python3"
  },
  "language_info": {
   "codemirror_mode": {
    "name": "ipython",
    "version": 3
   },
   "file_extension": ".py",
   "mimetype": "text/x-python",
   "name": "python",
   "nbconvert_exporter": "python",
   "pygments_lexer": "ipython3",
   "version": "3.11.6"
  }
 },
 "nbformat": 4,
 "nbformat_minor": 5
}
